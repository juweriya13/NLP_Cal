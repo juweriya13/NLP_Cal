{
 "cells": [
  {
   "cell_type": "code",
   "execution_count": 2,
   "metadata": {},
   "outputs": [
    {
     "name": "stdout",
     "output_type": "stream",
     "text": [
      "{'TIME': '23 am', 'DATE': '25th of September'}\n"
     ]
    }
   ],
   "source": [
    "from dateutil.parser import parse\n",
    "import spacy\n",
    "import streamlit as st\n",
    "\n",
    "nlp = spacy.load(\"en_core_web_sm\")\n",
    "\n",
    "def parse_date_time_from_text(text):\n",
    "    doc = nlp(text)\n",
    "    entities_dict = {'TIME': None, 'DATE': None}\n",
    "    for ent in doc.ents:\n",
    "        if ent.label_ in entities_dict:\n",
    "            entities_dict[ent.label_] = ent.text\n",
    "    return entities_dict\n",
    "\n",
    "\n",
    "# entities_dict = parse_date_time_from_text(\"I'm free on 20th of September at 12 am for a coffee\")\n",
    "user_inp = input()\n",
    "\n",
    "entities_dict = parse_date_time_from_text(user_inp)\n",
    "\n",
    "print(entities_dict)"
   ]
  },
  {
   "cell_type": "code",
   "execution_count": null,
   "metadata": {},
   "outputs": [],
   "source": []
  }
 ],
 "metadata": {
  "kernelspec": {
   "display_name": "Python 3",
   "language": "python",
   "name": "python3"
  },
  "language_info": {
   "codemirror_mode": {
    "name": "ipython",
    "version": 3
   },
   "file_extension": ".py",
   "mimetype": "text/x-python",
   "name": "python",
   "nbconvert_exporter": "python",
   "pygments_lexer": "ipython3",
   "version": "3.12.1"
  }
 },
 "nbformat": 4,
 "nbformat_minor": 2
}
